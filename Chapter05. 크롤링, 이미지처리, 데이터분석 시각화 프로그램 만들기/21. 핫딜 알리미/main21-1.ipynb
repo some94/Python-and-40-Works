{
 "cells": [
  {
   "cell_type": "code",
   "execution_count": 1,
   "metadata": {
    "collapsed": true
   },
   "outputs": [
    {
     "name": "stderr",
     "output_type": "stream",
     "text": [
      "C:\\Users\\Public\\Documents\\ESTsoft\\CreatorTemp\\ipykernel_14648\\1475015531.py:4: DeprecationWarning: executable_path has been deprecated, please pass in a Service object\n",
      "  driver = webdriver.Chrome(ChromeDriverManager().install())\n"
     ]
    }
   ],
   "source": [
    "from webdriver_manager.chrome import ChromeDriverManager\n",
    "from selenium import webdriver\n",
    "\n",
    "driver = webdriver.Chrome(ChromeDriverManager().install())\n",
    "\n",
    "driver.get(url='https://www.ppomppu.co.kr/zboard/zboard.php?id=ppomppu')\n",
    "\n",
    "driver.implicitly_wait(time_to_wait=10)"
   ]
  },
  {
   "cell_type": "markdown",
   "source": [],
   "metadata": {
    "collapsed": false
   }
  },
  {
   "cell_type": "code",
   "execution_count": 2,
   "outputs": [
    {
     "name": "stdout",
     "output_type": "stream",
     "text": [
      "[카카오] 천혜향 2kg 15과 (14,900원/무료)\n",
      "https://www.ppomppu.co.kr/zboard/view.php?id=ppomppu&page=1&divpage=77&no=456874\n",
      "[쿠팡] 주방 아트 보드 (다양/쿠팡와우 무료)\n",
      "https://www.ppomppu.co.kr/zboard/view.php?id=ppomppu&page=1&divpage=77&no=456873\n",
      "[쿠팡] 뽀로로밴드 8p x 10개 (2,900원 / 무료)\n",
      "https://www.ppomppu.co.kr/zboard/view.php?id=ppomppu&page=1&divpage=77&no=456872\n",
      "[옥션] 구운아몬드 1.6Kg 2022년산 햇 아몬드 (20,000/무료)\n",
      "https://www.ppomppu.co.kr/zboard/view.php?id=ppomppu&page=1&divpage=77&no=456871\n",
      "[위메프] 떡신 떡볶이 320g x 3봉지 (8,100원/무료)\n",
      "https://www.ppomppu.co.kr/zboard/view.php?id=ppomppu&page=1&divpage=77&no=456870\n",
      "[카카오] 오리온 포카칩 골라담기 꼬깔콘 콘칩 오감자 오징어땅콩(9,900원~/무료)\n",
      "https://www.ppomppu.co.kr/zboard/view.php?id=ppomppu&page=1&divpage=77&no=456869\n",
      "[동원몰] 블랙앵거스 살치살, 갈비본살 500g (15,900원/3만무배)\n",
      "https://www.ppomppu.co.kr/zboard/view.php?id=ppomppu&page=1&divpage=77&no=456868\n",
      "[지마켓] 나이키 / 뉴발란스 / 프로스펙스 / 네파 등 브랜드양말 여러종 (다양/무료)\n",
      "https://www.ppomppu.co.kr/zboard/view.php?id=ppomppu&page=1&divpage=77&no=456867\n",
      "[지마켓] 시그니처 컵밥 250g 5종 5팩 (12,790원/무료)\n",
      "https://www.ppomppu.co.kr/zboard/view.php?id=ppomppu&page=1&divpage=77&no=456866\n",
      "[홈플러스] USDA 초이스 부채살(미국산) 100g (1,770원 / 3000원)\n",
      "https://www.ppomppu.co.kr/zboard/view.php?id=ppomppu&page=1&divpage=77&no=456865\n",
      "[지마켓] [코베아] 3way 올인원 구이바다 브라운 (캐리백 포함). 하나/롯데카드한정 (100,000원/무료배송)\n",
      "https://www.ppomppu.co.kr/zboard/view.php?id=ppomppu&page=1&divpage=77&no=456864\n",
      "[롯데홈쇼핑] 별의 커비 wii 디럭스 (59.800원/무배)\n",
      "https://www.ppomppu.co.kr/zboard/view.php?id=ppomppu&page=1&divpage=77&no=456862\n",
      "[롯데온] 바쏘옴므 여름 반팔티셔츠 9종 균일가 [12,650원/무료]\n",
      "https://www.ppomppu.co.kr/zboard/view.php?id=ppomppu&page=1&divpage=77&no=456861\n",
      "[11마존] 플랜터스 땅콩 453g 외 다양 [6,510/우주패스무료]\n",
      "https://www.ppomppu.co.kr/zboard/view.php?id=ppomppu&page=1&divpage=77&no=456860\n",
      "[지마켓] 폰타나 파스타 소스 600g x4병 + 면 500g (13,980원/무료)\n",
      "https://www.ppomppu.co.kr/zboard/view.php?id=ppomppu&page=1&divpage=77&no=456859\n",
      "[11번가아마존] 스테들러 노리스 s펜 클래식 (34,120원/무료배송)\n",
      "https://www.ppomppu.co.kr/zboard/view.php?id=ppomppu&page=1&divpage=77&no=456858\n",
      "에어드레서 DF10A9500WG\n",
      "https://www.ppomppu.co.kr/zboard/view.php?id=ppomppu&page=1&divpage=77&no=456857\n",
      "[11번가] 국산 멀티탭 모음 (3600~ 조건부무배)\n",
      "https://www.ppomppu.co.kr/zboard/view.php?id=ppomppu&page=1&divpage=77&no=456856\n",
      "[11번가] 삼성 SL-T2270FW 정품무한 컬러 잉크젯복합기(284,480 / 무료)\n",
      "https://www.ppomppu.co.kr/zboard/view.php?id=ppomppu&page=1&divpage=77&no=456855\n",
      "[롯데온]반했구마 고구마 말랭이 10봉(12,720원/무료배송)\n",
      "https://www.ppomppu.co.kr/zboard/view.php?id=ppomppu&page=1&divpage=77&no=456854\n",
      "[네이버] 꽃게의 계절! 간장게장이 땡기는 날! 알이 가득한 밥도둑 간장게장! 단 하루 할인행사!\n",
      "https://www.ppomppu.co.kr/zboard/view.php?id=pmarket&&no=283761\n",
      "[카카오톡 스토어] 폴로 랄프로렌 반팔티 24,300원~ 봄 셔츠 기획전 (무배)\n",
      "https://www.ppomppu.co.kr/zboard/view.php?id=pmarket&&no=283757\n",
      "[지마켓] 삼성 외장하드 Y3 1TB (84,550원 ~ / 파우치 증정)\n",
      "https://www.ppomppu.co.kr/zboard/view.php?id=pmarket&&no=283758\n",
      "제주 무 (1개) (1,890원)\n",
      "https://www.ppomppu.co.kr/hotdeal/?no=26458664\n",
      "여주아울렛 아동복 매장 괜찮은 곳 있을까요?\n",
      "https://www.ppomppu.co.kr/zboard/view.php?id=social&no=36437\n",
      "병행수입 정품 업체 vs 백화점 공홈 상품 어디에서 구입들 하시나요.?\n",
      "https://www.ppomppu.co.kr/zboard/view.php?id=social&no=36436\n",
      "쿠팡 목우촌 2등급 육우 어떠셨나요(후기)\n",
      "https://www.ppomppu.co.kr/zboard/view.php?id=social&no=36435\n"
     ]
    }
   ],
   "source": [
    "from selenium.webdriver.common.by import By\n",
    "\n",
    "titles = driver.find_elements(By.CSS_SELECTOR, '#revolution_main_table > tbody > tr > td:nth-child(3) > table > tbody > tr > td:nth-child(2) > div > a > font')\n",
    "urls = driver.find_elements(By.CSS_SELECTOR,'#revolution_main_table > tbody > tr > td:nth-child(3) > table > tbody > tr > td:nth-child(2) > div > a')\n",
    "\n",
    "for i in range(len(titles)):\n",
    "    print(titles[i].text)\n",
    "    print(urls[i].get_attribute('href'))"
   ],
   "metadata": {
    "collapsed": false
   }
  },
  {
   "cell_type": "code",
   "execution_count": null,
   "outputs": [],
   "source": [
    "import telegram\n",
    "message = \"\"\n",
    "for i in range(len(titles)):\n",
    "    if \"김치\" in titles[i].text:\n",
    "        message = titles[i].text + \"\\n\" +urls[i].get_attribute('href')\n",
    "        print(message)\n",
    "        token = '' # 텔레그램 봇 토큰\n",
    "        id = \"\" # 텔레그램 봇 ID\n",
    "        bot = telegram.Bot(token)\n",
    "        bot.sendMessage(chat_id=id, text=message)"
   ],
   "metadata": {
    "collapsed": false
   }
  }
 ],
 "metadata": {
  "kernelspec": {
   "display_name": "Python 3",
   "language": "python",
   "name": "python3"
  },
  "language_info": {
   "codemirror_mode": {
    "name": "ipython",
    "version": 2
   },
   "file_extension": ".py",
   "mimetype": "text/x-python",
   "name": "python",
   "nbconvert_exporter": "python",
   "pygments_lexer": "ipython2",
   "version": "2.7.6"
  }
 },
 "nbformat": 4,
 "nbformat_minor": 0
}
